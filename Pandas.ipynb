{
 "cells": [
  {
   "cell_type": "code",
   "execution_count": 2,
   "id": "e31829c9",
   "metadata": {},
   "outputs": [],
   "source": [
    "import pandas as pd\n",
    "import numpy as np\n",
    "productId = [101, 102, 103, 104, 105]\n",
    "productName = ['maggi', 'pizza', 'burger', 'franki', 'pasta']\n",
    "productPrice = [100, 200, 300, 400, 500]\n"
   ]
  },
  {
   "cell_type": "code",
   "execution_count": 46,
   "id": "a25ef92a",
   "metadata": {},
   "outputs": [],
   "source": [
    "df = pd.DataFrame({\n",
    "    'productId': productId,\n",
    "    'productName': productName,\n",
    "    'productPrice': productPrice\n",
    "})\n"
   ]
  },
  {
   "cell_type": "code",
   "execution_count": 47,
   "id": "0f6f6521",
   "metadata": {},
   "outputs": [
    {
     "data": {
      "text/html": [
       "<div>\n",
       "<style scoped>\n",
       "    .dataframe tbody tr th:only-of-type {\n",
       "        vertical-align: middle;\n",
       "    }\n",
       "\n",
       "    .dataframe tbody tr th {\n",
       "        vertical-align: top;\n",
       "    }\n",
       "\n",
       "    .dataframe thead th {\n",
       "        text-align: right;\n",
       "    }\n",
       "</style>\n",
       "<table border=\"1\" class=\"dataframe\">\n",
       "  <thead>\n",
       "    <tr style=\"text-align: right;\">\n",
       "      <th></th>\n",
       "      <th>productId</th>\n",
       "      <th>productName</th>\n",
       "      <th>productPrice</th>\n",
       "    </tr>\n",
       "  </thead>\n",
       "  <tbody>\n",
       "    <tr>\n",
       "      <th>0</th>\n",
       "      <td>101</td>\n",
       "      <td>maggi</td>\n",
       "      <td>100</td>\n",
       "    </tr>\n",
       "    <tr>\n",
       "      <th>1</th>\n",
       "      <td>102</td>\n",
       "      <td>pizza</td>\n",
       "      <td>200</td>\n",
       "    </tr>\n",
       "    <tr>\n",
       "      <th>2</th>\n",
       "      <td>103</td>\n",
       "      <td>burger</td>\n",
       "      <td>300</td>\n",
       "    </tr>\n",
       "    <tr>\n",
       "      <th>3</th>\n",
       "      <td>104</td>\n",
       "      <td>franki</td>\n",
       "      <td>400</td>\n",
       "    </tr>\n",
       "    <tr>\n",
       "      <th>4</th>\n",
       "      <td>105</td>\n",
       "      <td>pasta</td>\n",
       "      <td>500</td>\n",
       "    </tr>\n",
       "  </tbody>\n",
       "</table>\n",
       "</div>"
      ],
      "text/plain": [
       "   productId productName  productPrice\n",
       "0        101       maggi           100\n",
       "1        102       pizza           200\n",
       "2        103      burger           300\n",
       "3        104      franki           400\n",
       "4        105       pasta           500"
      ]
     },
     "execution_count": 47,
     "metadata": {},
     "output_type": "execute_result"
    }
   ],
   "source": [
    "df"
   ]
  },
  {
   "cell_type": "code",
   "execution_count": 5,
   "id": "c4b8608f",
   "metadata": {},
   "outputs": [
    {
     "name": "stdout",
     "output_type": "stream",
     "text": [
      "Product ID column:\n",
      "0    101\n",
      "1    102\n",
      "2    103\n",
      "3    104\n",
      "4    105\n",
      "Name: productId, dtype: int64\n",
      "\n",
      "Product Name column:\n",
      "0     maggi\n",
      "1     pizza\n",
      "2    burger\n",
      "3    franki\n",
      "4     pasta\n",
      "Name: productName, dtype: object\n",
      "\n",
      "Product Price column:\n",
      "0    100\n",
      "1    200\n",
      "2    300\n",
      "3    400\n",
      "4    500\n",
      "Name: productPrice, dtype: int64\n"
     ]
    }
   ],
   "source": [
    "print(\"Product ID column:\")\n",
    "print(df['productId'])\n",
    "\n",
    "print(\"\\nProduct Name column:\")\n",
    "print(df['productName'])\n",
    "\n",
    "print(\"\\nProduct Price column:\")\n",
    "print(df['productPrice'])\n"
   ]
  },
  {
   "cell_type": "code",
   "execution_count": 6,
   "id": "965b2741",
   "metadata": {},
   "outputs": [
    {
     "name": "stdout",
     "output_type": "stream",
     "text": [
      "\n",
      "Each row from DataFrame:\n",
      "productId         101\n",
      "productName     maggi\n",
      "productPrice      100\n",
      "Name: 0, dtype: object\n",
      "productId         102\n",
      "productName     pizza\n",
      "productPrice      200\n",
      "Name: 1, dtype: object\n",
      "productId          103\n",
      "productName     burger\n",
      "productPrice       300\n",
      "Name: 2, dtype: object\n",
      "productId          104\n",
      "productName     franki\n",
      "productPrice       400\n",
      "Name: 3, dtype: object\n",
      "productId         105\n",
      "productName     pasta\n",
      "productPrice      500\n",
      "Name: 4, dtype: object\n"
     ]
    }
   ],
   "source": [
    "print(\"\\nEach row from DataFrame:\")\n",
    "for i in range(len(df)):\n",
    "    print(df.iloc[i])"
   ]
  },
  {
   "cell_type": "code",
   "execution_count": 7,
   "id": "8556ba81",
   "metadata": {},
   "outputs": [
    {
     "name": "stdout",
     "output_type": "stream",
     "text": [
      "burger\n"
     ]
    }
   ],
   "source": [
    "print(df.loc[2]['productName'])"
   ]
  },
  {
   "cell_type": "code",
   "execution_count": 8,
   "id": "8019dae5",
   "metadata": {},
   "outputs": [
    {
     "name": "stdout",
     "output_type": "stream",
     "text": [
      "200\n"
     ]
    }
   ],
   "source": [
    "print(df.iloc[1]['productPrice'])"
   ]
  },
  {
   "cell_type": "code",
   "execution_count": 9,
   "id": "5dee6ef9",
   "metadata": {},
   "outputs": [
    {
     "name": "stdout",
     "output_type": "stream",
     "text": [
      "   productId productName\n",
      "1        102       pizza\n",
      "2        103      burger\n",
      "3        104      franki\n"
     ]
    }
   ],
   "source": [
    "print(df.iloc[1:4, :-1])"
   ]
  },
  {
   "cell_type": "code",
   "execution_count": 10,
   "id": "fa6515dc",
   "metadata": {},
   "outputs": [
    {
     "name": "stdout",
     "output_type": "stream",
     "text": [
      "0    100\n",
      "1    200\n",
      "2    300\n",
      "Name: productPrice, dtype: int64\n"
     ]
    }
   ],
   "source": [
    "print(df.iloc[0:3, 2])"
   ]
  },
  {
   "cell_type": "code",
   "execution_count": 11,
   "id": "52213e84",
   "metadata": {},
   "outputs": [],
   "source": [
    "df=pd.DataFrame(np.random.randint(0,100,(4,4)),index=[\"hetvi\",\"vrajesh\",\"yash\",\"rushil\"],columns=[\"python\",\"java\",\"c#\",\".net\"])"
   ]
  },
  {
   "cell_type": "code",
   "execution_count": 12,
   "id": "ad1761fe",
   "metadata": {},
   "outputs": [
    {
     "data": {
      "text/html": [
       "<div>\n",
       "<style scoped>\n",
       "    .dataframe tbody tr th:only-of-type {\n",
       "        vertical-align: middle;\n",
       "    }\n",
       "\n",
       "    .dataframe tbody tr th {\n",
       "        vertical-align: top;\n",
       "    }\n",
       "\n",
       "    .dataframe thead th {\n",
       "        text-align: right;\n",
       "    }\n",
       "</style>\n",
       "<table border=\"1\" class=\"dataframe\">\n",
       "  <thead>\n",
       "    <tr style=\"text-align: right;\">\n",
       "      <th></th>\n",
       "      <th>python</th>\n",
       "      <th>java</th>\n",
       "      <th>c#</th>\n",
       "      <th>.net</th>\n",
       "    </tr>\n",
       "  </thead>\n",
       "  <tbody>\n",
       "    <tr>\n",
       "      <th>hetvi</th>\n",
       "      <td>93</td>\n",
       "      <td>32</td>\n",
       "      <td>71</td>\n",
       "      <td>5</td>\n",
       "    </tr>\n",
       "    <tr>\n",
       "      <th>vrajesh</th>\n",
       "      <td>89</td>\n",
       "      <td>89</td>\n",
       "      <td>16</td>\n",
       "      <td>0</td>\n",
       "    </tr>\n",
       "    <tr>\n",
       "      <th>yash</th>\n",
       "      <td>66</td>\n",
       "      <td>63</td>\n",
       "      <td>11</td>\n",
       "      <td>90</td>\n",
       "    </tr>\n",
       "    <tr>\n",
       "      <th>rushil</th>\n",
       "      <td>28</td>\n",
       "      <td>17</td>\n",
       "      <td>45</td>\n",
       "      <td>81</td>\n",
       "    </tr>\n",
       "  </tbody>\n",
       "</table>\n",
       "</div>"
      ],
      "text/plain": [
       "         python  java  c#  .net\n",
       "hetvi        93    32  71     5\n",
       "vrajesh      89    89  16     0\n",
       "yash         66    63  11    90\n",
       "rushil       28    17  45    81"
      ]
     },
     "execution_count": 12,
     "metadata": {},
     "output_type": "execute_result"
    }
   ],
   "source": [
    "df"
   ]
  },
  {
   "cell_type": "code",
   "execution_count": 13,
   "id": "47036d88",
   "metadata": {},
   "outputs": [],
   "source": [
    "df.loc[df['python']<40,'python']=41"
   ]
  },
  {
   "cell_type": "code",
   "execution_count": 14,
   "id": "a7697ad7",
   "metadata": {},
   "outputs": [
    {
     "data": {
      "text/html": [
       "<div>\n",
       "<style scoped>\n",
       "    .dataframe tbody tr th:only-of-type {\n",
       "        vertical-align: middle;\n",
       "    }\n",
       "\n",
       "    .dataframe tbody tr th {\n",
       "        vertical-align: top;\n",
       "    }\n",
       "\n",
       "    .dataframe thead th {\n",
       "        text-align: right;\n",
       "    }\n",
       "</style>\n",
       "<table border=\"1\" class=\"dataframe\">\n",
       "  <thead>\n",
       "    <tr style=\"text-align: right;\">\n",
       "      <th></th>\n",
       "      <th>python</th>\n",
       "      <th>java</th>\n",
       "      <th>c#</th>\n",
       "      <th>.net</th>\n",
       "    </tr>\n",
       "  </thead>\n",
       "  <tbody>\n",
       "    <tr>\n",
       "      <th>hetvi</th>\n",
       "      <td>93</td>\n",
       "      <td>32</td>\n",
       "      <td>71</td>\n",
       "      <td>5</td>\n",
       "    </tr>\n",
       "    <tr>\n",
       "      <th>vrajesh</th>\n",
       "      <td>89</td>\n",
       "      <td>89</td>\n",
       "      <td>16</td>\n",
       "      <td>0</td>\n",
       "    </tr>\n",
       "    <tr>\n",
       "      <th>yash</th>\n",
       "      <td>66</td>\n",
       "      <td>63</td>\n",
       "      <td>11</td>\n",
       "      <td>90</td>\n",
       "    </tr>\n",
       "    <tr>\n",
       "      <th>rushil</th>\n",
       "      <td>41</td>\n",
       "      <td>17</td>\n",
       "      <td>45</td>\n",
       "      <td>81</td>\n",
       "    </tr>\n",
       "  </tbody>\n",
       "</table>\n",
       "</div>"
      ],
      "text/plain": [
       "         python  java  c#  .net\n",
       "hetvi        93    32  71     5\n",
       "vrajesh      89    89  16     0\n",
       "yash         66    63  11    90\n",
       "rushil       41    17  45    81"
      ]
     },
     "execution_count": 14,
     "metadata": {},
     "output_type": "execute_result"
    }
   ],
   "source": [
    "df"
   ]
  },
  {
   "cell_type": "code",
   "execution_count": 15,
   "id": "7afcf6e2",
   "metadata": {},
   "outputs": [],
   "source": [
    "df += 2\n",
    "df[df > 100] = 100"
   ]
  },
  {
   "cell_type": "code",
   "execution_count": 16,
   "id": "f67f789d",
   "metadata": {},
   "outputs": [
    {
     "data": {
      "text/html": [
       "<div>\n",
       "<style scoped>\n",
       "    .dataframe tbody tr th:only-of-type {\n",
       "        vertical-align: middle;\n",
       "    }\n",
       "\n",
       "    .dataframe tbody tr th {\n",
       "        vertical-align: top;\n",
       "    }\n",
       "\n",
       "    .dataframe thead th {\n",
       "        text-align: right;\n",
       "    }\n",
       "</style>\n",
       "<table border=\"1\" class=\"dataframe\">\n",
       "  <thead>\n",
       "    <tr style=\"text-align: right;\">\n",
       "      <th></th>\n",
       "      <th>python</th>\n",
       "      <th>java</th>\n",
       "      <th>c#</th>\n",
       "      <th>.net</th>\n",
       "    </tr>\n",
       "  </thead>\n",
       "  <tbody>\n",
       "    <tr>\n",
       "      <th>hetvi</th>\n",
       "      <td>95</td>\n",
       "      <td>34</td>\n",
       "      <td>73</td>\n",
       "      <td>7</td>\n",
       "    </tr>\n",
       "    <tr>\n",
       "      <th>vrajesh</th>\n",
       "      <td>91</td>\n",
       "      <td>91</td>\n",
       "      <td>18</td>\n",
       "      <td>2</td>\n",
       "    </tr>\n",
       "    <tr>\n",
       "      <th>yash</th>\n",
       "      <td>68</td>\n",
       "      <td>65</td>\n",
       "      <td>13</td>\n",
       "      <td>92</td>\n",
       "    </tr>\n",
       "    <tr>\n",
       "      <th>rushil</th>\n",
       "      <td>43</td>\n",
       "      <td>19</td>\n",
       "      <td>47</td>\n",
       "      <td>83</td>\n",
       "    </tr>\n",
       "  </tbody>\n",
       "</table>\n",
       "</div>"
      ],
      "text/plain": [
       "         python  java  c#  .net\n",
       "hetvi        95    34  73     7\n",
       "vrajesh      91    91  18     2\n",
       "yash         68    65  13    92\n",
       "rushil       43    19  47    83"
      ]
     },
     "execution_count": 16,
     "metadata": {},
     "output_type": "execute_result"
    }
   ],
   "source": [
    "df"
   ]
  },
  {
   "cell_type": "code",
   "execution_count": 17,
   "id": "5dbd2534",
   "metadata": {},
   "outputs": [
    {
     "data": {
      "text/html": [
       "<div>\n",
       "<style scoped>\n",
       "    .dataframe tbody tr th:only-of-type {\n",
       "        vertical-align: middle;\n",
       "    }\n",
       "\n",
       "    .dataframe tbody tr th {\n",
       "        vertical-align: top;\n",
       "    }\n",
       "\n",
       "    .dataframe thead th {\n",
       "        text-align: right;\n",
       "    }\n",
       "</style>\n",
       "<table border=\"1\" class=\"dataframe\">\n",
       "  <thead>\n",
       "    <tr style=\"text-align: right;\">\n",
       "      <th></th>\n",
       "      <th>python</th>\n",
       "      <th>java</th>\n",
       "      <th>c#</th>\n",
       "      <th>.net</th>\n",
       "    </tr>\n",
       "  </thead>\n",
       "  <tbody>\n",
       "    <tr>\n",
       "      <th>hetvi</th>\n",
       "      <td>95</td>\n",
       "      <td>34</td>\n",
       "      <td>73</td>\n",
       "      <td>7</td>\n",
       "    </tr>\n",
       "    <tr>\n",
       "      <th>vrajesh</th>\n",
       "      <td>91</td>\n",
       "      <td>91</td>\n",
       "      <td>18</td>\n",
       "      <td>2</td>\n",
       "    </tr>\n",
       "    <tr>\n",
       "      <th>yash</th>\n",
       "      <td>68</td>\n",
       "      <td>65</td>\n",
       "      <td>13</td>\n",
       "      <td>92</td>\n",
       "    </tr>\n",
       "  </tbody>\n",
       "</table>\n",
       "</div>"
      ],
      "text/plain": [
       "         python  java  c#  .net\n",
       "hetvi        95    34  73     7\n",
       "vrajesh      91    91  18     2\n",
       "yash         68    65  13    92"
      ]
     },
     "execution_count": 17,
     "metadata": {},
     "output_type": "execute_result"
    }
   ],
   "source": [
    "df[(df['python']>50) | (df['c#']>60)]"
   ]
  },
  {
   "cell_type": "code",
   "execution_count": 18,
   "id": "85601053",
   "metadata": {},
   "outputs": [
    {
     "data": {
      "text/html": [
       "<div>\n",
       "<style scoped>\n",
       "    .dataframe tbody tr th:only-of-type {\n",
       "        vertical-align: middle;\n",
       "    }\n",
       "\n",
       "    .dataframe tbody tr th {\n",
       "        vertical-align: top;\n",
       "    }\n",
       "\n",
       "    .dataframe thead th {\n",
       "        text-align: right;\n",
       "    }\n",
       "</style>\n",
       "<table border=\"1\" class=\"dataframe\">\n",
       "  <thead>\n",
       "    <tr style=\"text-align: right;\">\n",
       "      <th></th>\n",
       "      <th>python</th>\n",
       "      <th>java</th>\n",
       "      <th>c#</th>\n",
       "      <th>.net</th>\n",
       "    </tr>\n",
       "  </thead>\n",
       "  <tbody>\n",
       "    <tr>\n",
       "      <th>vrajesh</th>\n",
       "      <td>91</td>\n",
       "      <td>91</td>\n",
       "      <td>18</td>\n",
       "      <td>2</td>\n",
       "    </tr>\n",
       "  </tbody>\n",
       "</table>\n",
       "</div>"
      ],
      "text/plain": [
       "         python  java  c#  .net\n",
       "vrajesh      91    91  18     2"
      ]
     },
     "execution_count": 18,
     "metadata": {},
     "output_type": "execute_result"
    }
   ],
   "source": [
    "df[df.index.str.startswith('v')]  "
   ]
  },
  {
   "cell_type": "code",
   "execution_count": 19,
   "id": "7b734e9c",
   "metadata": {},
   "outputs": [
    {
     "data": {
      "text/html": [
       "<div>\n",
       "<style scoped>\n",
       "    .dataframe tbody tr th:only-of-type {\n",
       "        vertical-align: middle;\n",
       "    }\n",
       "\n",
       "    .dataframe tbody tr th {\n",
       "        vertical-align: top;\n",
       "    }\n",
       "\n",
       "    .dataframe thead th {\n",
       "        text-align: right;\n",
       "    }\n",
       "</style>\n",
       "<table border=\"1\" class=\"dataframe\">\n",
       "  <thead>\n",
       "    <tr style=\"text-align: right;\">\n",
       "      <th></th>\n",
       "      <th>python</th>\n",
       "      <th>java</th>\n",
       "      <th>c#</th>\n",
       "      <th>.net</th>\n",
       "    </tr>\n",
       "  </thead>\n",
       "  <tbody>\n",
       "    <tr>\n",
       "      <th>rushil</th>\n",
       "      <td>43</td>\n",
       "      <td>19</td>\n",
       "      <td>47</td>\n",
       "      <td>83</td>\n",
       "    </tr>\n",
       "  </tbody>\n",
       "</table>\n",
       "</div>"
      ],
      "text/plain": [
       "        python  java  c#  .net\n",
       "rushil      43    19  47    83"
      ]
     },
     "execution_count": 19,
     "metadata": {},
     "output_type": "execute_result"
    }
   ],
   "source": [
    "df[df.index.str.endswith('l')]"
   ]
  },
  {
   "cell_type": "code",
   "execution_count": 20,
   "id": "c9b2d916",
   "metadata": {},
   "outputs": [],
   "source": [
    "df['Total'] = df.sum(axis=1)\n",
    "df['Percentage'] = (df['Total'] / 500) * 100"
   ]
  },
  {
   "cell_type": "code",
   "execution_count": 21,
   "id": "574aaaec",
   "metadata": {},
   "outputs": [
    {
     "data": {
      "text/html": [
       "<div>\n",
       "<style scoped>\n",
       "    .dataframe tbody tr th:only-of-type {\n",
       "        vertical-align: middle;\n",
       "    }\n",
       "\n",
       "    .dataframe tbody tr th {\n",
       "        vertical-align: top;\n",
       "    }\n",
       "\n",
       "    .dataframe thead th {\n",
       "        text-align: right;\n",
       "    }\n",
       "</style>\n",
       "<table border=\"1\" class=\"dataframe\">\n",
       "  <thead>\n",
       "    <tr style=\"text-align: right;\">\n",
       "      <th></th>\n",
       "      <th>python</th>\n",
       "      <th>java</th>\n",
       "      <th>c#</th>\n",
       "      <th>.net</th>\n",
       "      <th>Total</th>\n",
       "      <th>Percentage</th>\n",
       "    </tr>\n",
       "  </thead>\n",
       "  <tbody>\n",
       "    <tr>\n",
       "      <th>hetvi</th>\n",
       "      <td>95</td>\n",
       "      <td>34</td>\n",
       "      <td>73</td>\n",
       "      <td>7</td>\n",
       "      <td>209</td>\n",
       "      <td>41.8</td>\n",
       "    </tr>\n",
       "    <tr>\n",
       "      <th>vrajesh</th>\n",
       "      <td>91</td>\n",
       "      <td>91</td>\n",
       "      <td>18</td>\n",
       "      <td>2</td>\n",
       "      <td>202</td>\n",
       "      <td>40.4</td>\n",
       "    </tr>\n",
       "    <tr>\n",
       "      <th>yash</th>\n",
       "      <td>68</td>\n",
       "      <td>65</td>\n",
       "      <td>13</td>\n",
       "      <td>92</td>\n",
       "      <td>238</td>\n",
       "      <td>47.6</td>\n",
       "    </tr>\n",
       "    <tr>\n",
       "      <th>rushil</th>\n",
       "      <td>43</td>\n",
       "      <td>19</td>\n",
       "      <td>47</td>\n",
       "      <td>83</td>\n",
       "      <td>192</td>\n",
       "      <td>38.4</td>\n",
       "    </tr>\n",
       "  </tbody>\n",
       "</table>\n",
       "</div>"
      ],
      "text/plain": [
       "         python  java  c#  .net  Total  Percentage\n",
       "hetvi        95    34  73     7    209        41.8\n",
       "vrajesh      91    91  18     2    202        40.4\n",
       "yash         68    65  13    92    238        47.6\n",
       "rushil       43    19  47    83    192        38.4"
      ]
     },
     "execution_count": 21,
     "metadata": {},
     "output_type": "execute_result"
    }
   ],
   "source": [
    "df"
   ]
  },
  {
   "cell_type": "code",
   "execution_count": 22,
   "id": "176395cb",
   "metadata": {},
   "outputs": [
    {
     "data": {
      "text/plain": [
       "hetvi      PASS\n",
       "vrajesh    PASS\n",
       "yash       PASS\n",
       "rushil     FAIL\n",
       "dtype: object"
      ]
     },
     "execution_count": 22,
     "metadata": {},
     "output_type": "execute_result"
    }
   ],
   "source": [
    " df.apply(lambda row: 'PASS' if row['Percentage'] >= 40 else 'FAIL', axis=1)"
   ]
  },
  {
   "cell_type": "code",
   "execution_count": 23,
   "id": "61c59a35",
   "metadata": {},
   "outputs": [],
   "source": [
    "def calculate_grade(percentage):\n",
    "    if percentage >= 90:\n",
    "        return 'A'\n",
    "    elif percentage >= 80:\n",
    "        return 'B'\n",
    "    elif percentage >= 90:\n",
    "        return 'C'\n",
    "    elif percentage >= 80:\n",
    "        return 'D'\n",
    "    elif percentage >= 70:\n",
    "        return 'E'\n",
    "    else:\n",
    "        return 'F'\n",
    "df['Grade'] = df['Percentage'].apply(calculate_grade)    "
   ]
  },
  {
   "cell_type": "code",
   "execution_count": 24,
   "id": "ec4996ab",
   "metadata": {},
   "outputs": [
    {
     "data": {
      "text/html": [
       "<div>\n",
       "<style scoped>\n",
       "    .dataframe tbody tr th:only-of-type {\n",
       "        vertical-align: middle;\n",
       "    }\n",
       "\n",
       "    .dataframe tbody tr th {\n",
       "        vertical-align: top;\n",
       "    }\n",
       "\n",
       "    .dataframe thead th {\n",
       "        text-align: right;\n",
       "    }\n",
       "</style>\n",
       "<table border=\"1\" class=\"dataframe\">\n",
       "  <thead>\n",
       "    <tr style=\"text-align: right;\">\n",
       "      <th></th>\n",
       "      <th>python</th>\n",
       "      <th>java</th>\n",
       "      <th>c#</th>\n",
       "      <th>.net</th>\n",
       "      <th>Total</th>\n",
       "      <th>Percentage</th>\n",
       "      <th>Grade</th>\n",
       "    </tr>\n",
       "  </thead>\n",
       "  <tbody>\n",
       "    <tr>\n",
       "      <th>hetvi</th>\n",
       "      <td>95</td>\n",
       "      <td>34</td>\n",
       "      <td>73</td>\n",
       "      <td>7</td>\n",
       "      <td>209</td>\n",
       "      <td>41.8</td>\n",
       "      <td>F</td>\n",
       "    </tr>\n",
       "    <tr>\n",
       "      <th>vrajesh</th>\n",
       "      <td>91</td>\n",
       "      <td>91</td>\n",
       "      <td>18</td>\n",
       "      <td>2</td>\n",
       "      <td>202</td>\n",
       "      <td>40.4</td>\n",
       "      <td>F</td>\n",
       "    </tr>\n",
       "    <tr>\n",
       "      <th>yash</th>\n",
       "      <td>68</td>\n",
       "      <td>65</td>\n",
       "      <td>13</td>\n",
       "      <td>92</td>\n",
       "      <td>238</td>\n",
       "      <td>47.6</td>\n",
       "      <td>F</td>\n",
       "    </tr>\n",
       "    <tr>\n",
       "      <th>rushil</th>\n",
       "      <td>43</td>\n",
       "      <td>19</td>\n",
       "      <td>47</td>\n",
       "      <td>83</td>\n",
       "      <td>192</td>\n",
       "      <td>38.4</td>\n",
       "      <td>F</td>\n",
       "    </tr>\n",
       "  </tbody>\n",
       "</table>\n",
       "</div>"
      ],
      "text/plain": [
       "         python  java  c#  .net  Total  Percentage Grade\n",
       "hetvi        95    34  73     7    209        41.8     F\n",
       "vrajesh      91    91  18     2    202        40.4     F\n",
       "yash         68    65  13    92    238        47.6     F\n",
       "rushil       43    19  47    83    192        38.4     F"
      ]
     },
     "execution_count": 24,
     "metadata": {},
     "output_type": "execute_result"
    }
   ],
   "source": [
    "df"
   ]
  },
  {
   "cell_type": "code",
   "execution_count": 25,
   "id": "2779d299",
   "metadata": {},
   "outputs": [
    {
     "data": {
      "text/html": [
       "<div>\n",
       "<style scoped>\n",
       "    .dataframe tbody tr th:only-of-type {\n",
       "        vertical-align: middle;\n",
       "    }\n",
       "\n",
       "    .dataframe tbody tr th {\n",
       "        vertical-align: top;\n",
       "    }\n",
       "\n",
       "    .dataframe thead th {\n",
       "        text-align: right;\n",
       "    }\n",
       "</style>\n",
       "<table border=\"1\" class=\"dataframe\">\n",
       "  <thead>\n",
       "    <tr style=\"text-align: right;\">\n",
       "      <th></th>\n",
       "      <th>python</th>\n",
       "      <th>java</th>\n",
       "      <th>c#</th>\n",
       "      <th>.net</th>\n",
       "      <th>Total</th>\n",
       "      <th>Percentage</th>\n",
       "    </tr>\n",
       "  </thead>\n",
       "  <tbody>\n",
       "    <tr>\n",
       "      <th>mean</th>\n",
       "      <td>74.250000</td>\n",
       "      <td>52.250000</td>\n",
       "      <td>37.750000</td>\n",
       "      <td>46.000000</td>\n",
       "      <td>210.250000</td>\n",
       "      <td>42.050000</td>\n",
       "    </tr>\n",
       "    <tr>\n",
       "      <th>max</th>\n",
       "      <td>95.000000</td>\n",
       "      <td>91.000000</td>\n",
       "      <td>73.000000</td>\n",
       "      <td>92.000000</td>\n",
       "      <td>238.000000</td>\n",
       "      <td>47.600000</td>\n",
       "    </tr>\n",
       "    <tr>\n",
       "      <th>min</th>\n",
       "      <td>43.000000</td>\n",
       "      <td>19.000000</td>\n",
       "      <td>13.000000</td>\n",
       "      <td>2.000000</td>\n",
       "      <td>192.000000</td>\n",
       "      <td>38.400000</td>\n",
       "    </tr>\n",
       "    <tr>\n",
       "      <th>std</th>\n",
       "      <td>23.991318</td>\n",
       "      <td>32.159757</td>\n",
       "      <td>27.873225</td>\n",
       "      <td>48.104054</td>\n",
       "      <td>19.771613</td>\n",
       "      <td>3.954323</td>\n",
       "    </tr>\n",
       "  </tbody>\n",
       "</table>\n",
       "</div>"
      ],
      "text/plain": [
       "         python       java         c#       .net       Total  Percentage\n",
       "mean  74.250000  52.250000  37.750000  46.000000  210.250000   42.050000\n",
       "max   95.000000  91.000000  73.000000  92.000000  238.000000   47.600000\n",
       "min   43.000000  19.000000  13.000000   2.000000  192.000000   38.400000\n",
       "std   23.991318  32.159757  27.873225  48.104054   19.771613    3.954323"
      ]
     },
     "execution_count": 25,
     "metadata": {},
     "output_type": "execute_result"
    }
   ],
   "source": [
    "df.describe().loc[['mean', 'max', 'min', 'std']]"
   ]
  },
  {
   "cell_type": "code",
   "execution_count": 37,
   "id": "099bc2ac",
   "metadata": {},
   "outputs": [],
   "source": [
    "df.to_excel('students.xlsx', index=False)\n",
    "df.to_json('students.json', orient='records')\n",
    "df.to_html('students.html', index=False)\n"
   ]
  },
  {
   "cell_type": "code",
   "execution_count": 38,
   "id": "3cdc5d62",
   "metadata": {},
   "outputs": [
    {
     "data": {
      "text/html": [
       "<div>\n",
       "<style scoped>\n",
       "    .dataframe tbody tr th:only-of-type {\n",
       "        vertical-align: middle;\n",
       "    }\n",
       "\n",
       "    .dataframe tbody tr th {\n",
       "        vertical-align: top;\n",
       "    }\n",
       "\n",
       "    .dataframe thead th {\n",
       "        text-align: right;\n",
       "    }\n",
       "</style>\n",
       "<table border=\"1\" class=\"dataframe\">\n",
       "  <thead>\n",
       "    <tr style=\"text-align: right;\">\n",
       "      <th></th>\n",
       "      <th>python</th>\n",
       "      <th>java</th>\n",
       "      <th>c#</th>\n",
       "      <th>.net</th>\n",
       "      <th>Total</th>\n",
       "      <th>Percentage</th>\n",
       "      <th>Grade</th>\n",
       "    </tr>\n",
       "  </thead>\n",
       "  <tbody>\n",
       "    <tr>\n",
       "      <th>hetvi</th>\n",
       "      <td>95</td>\n",
       "      <td>34</td>\n",
       "      <td>73</td>\n",
       "      <td>7</td>\n",
       "      <td>209</td>\n",
       "      <td>41.8</td>\n",
       "      <td>F</td>\n",
       "    </tr>\n",
       "    <tr>\n",
       "      <th>vrajesh</th>\n",
       "      <td>91</td>\n",
       "      <td>91</td>\n",
       "      <td>18</td>\n",
       "      <td>2</td>\n",
       "      <td>202</td>\n",
       "      <td>40.4</td>\n",
       "      <td>F</td>\n",
       "    </tr>\n",
       "    <tr>\n",
       "      <th>yash</th>\n",
       "      <td>68</td>\n",
       "      <td>65</td>\n",
       "      <td>13</td>\n",
       "      <td>92</td>\n",
       "      <td>238</td>\n",
       "      <td>47.6</td>\n",
       "      <td>F</td>\n",
       "    </tr>\n",
       "    <tr>\n",
       "      <th>rushil</th>\n",
       "      <td>43</td>\n",
       "      <td>19</td>\n",
       "      <td>47</td>\n",
       "      <td>83</td>\n",
       "      <td>192</td>\n",
       "      <td>38.4</td>\n",
       "      <td>F</td>\n",
       "    </tr>\n",
       "  </tbody>\n",
       "</table>\n",
       "</div>"
      ],
      "text/plain": [
       "         python  java  c#  .net  Total  Percentage Grade\n",
       "hetvi        95    34  73     7    209        41.8     F\n",
       "vrajesh      91    91  18     2    202        40.4     F\n",
       "yash         68    65  13    92    238        47.6     F\n",
       "rushil       43    19  47    83    192        38.4     F"
      ]
     },
     "execution_count": 38,
     "metadata": {},
     "output_type": "execute_result"
    }
   ],
   "source": [
    "df"
   ]
  },
  {
   "cell_type": "code",
   "execution_count": 28,
   "id": "4faeebb1",
   "metadata": {},
   "outputs": [],
   "source": [
    "metadata = df.dtypes"
   ]
  },
  {
   "cell_type": "code",
   "execution_count": 29,
   "id": "07309a27",
   "metadata": {},
   "outputs": [
    {
     "data": {
      "text/html": [
       "<div>\n",
       "<style scoped>\n",
       "    .dataframe tbody tr th:only-of-type {\n",
       "        vertical-align: middle;\n",
       "    }\n",
       "\n",
       "    .dataframe tbody tr th {\n",
       "        vertical-align: top;\n",
       "    }\n",
       "\n",
       "    .dataframe thead th {\n",
       "        text-align: right;\n",
       "    }\n",
       "</style>\n",
       "<table border=\"1\" class=\"dataframe\">\n",
       "  <thead>\n",
       "    <tr style=\"text-align: right;\">\n",
       "      <th></th>\n",
       "      <th>python</th>\n",
       "      <th>java</th>\n",
       "      <th>c#</th>\n",
       "      <th>.net</th>\n",
       "      <th>Total</th>\n",
       "      <th>Percentage</th>\n",
       "      <th>Grade</th>\n",
       "    </tr>\n",
       "  </thead>\n",
       "  <tbody>\n",
       "    <tr>\n",
       "      <th>hetvi</th>\n",
       "      <td>95</td>\n",
       "      <td>34</td>\n",
       "      <td>73</td>\n",
       "      <td>7</td>\n",
       "      <td>209</td>\n",
       "      <td>41.8</td>\n",
       "      <td>F</td>\n",
       "    </tr>\n",
       "    <tr>\n",
       "      <th>vrajesh</th>\n",
       "      <td>91</td>\n",
       "      <td>91</td>\n",
       "      <td>18</td>\n",
       "      <td>2</td>\n",
       "      <td>202</td>\n",
       "      <td>40.4</td>\n",
       "      <td>F</td>\n",
       "    </tr>\n",
       "    <tr>\n",
       "      <th>yash</th>\n",
       "      <td>68</td>\n",
       "      <td>65</td>\n",
       "      <td>13</td>\n",
       "      <td>92</td>\n",
       "      <td>238</td>\n",
       "      <td>47.6</td>\n",
       "      <td>F</td>\n",
       "    </tr>\n",
       "    <tr>\n",
       "      <th>rushil</th>\n",
       "      <td>43</td>\n",
       "      <td>19</td>\n",
       "      <td>47</td>\n",
       "      <td>83</td>\n",
       "      <td>192</td>\n",
       "      <td>38.4</td>\n",
       "      <td>F</td>\n",
       "    </tr>\n",
       "  </tbody>\n",
       "</table>\n",
       "</div>"
      ],
      "text/plain": [
       "         python  java  c#  .net  Total  Percentage Grade\n",
       "hetvi        95    34  73     7    209        41.8     F\n",
       "vrajesh      91    91  18     2    202        40.4     F\n",
       "yash         68    65  13    92    238        47.6     F\n",
       "rushil       43    19  47    83    192        38.4     F"
      ]
     },
     "execution_count": 29,
     "metadata": {},
     "output_type": "execute_result"
    }
   ],
   "source": [
    "df"
   ]
  },
  {
   "cell_type": "code",
   "execution_count": 30,
   "id": "4f65e7e1",
   "metadata": {},
   "outputs": [
    {
     "data": {
      "text/plain": [
       "{'python': [95, 91, 68, 43],\n",
       " 'java': [34, 91, 65, 19],\n",
       " 'c#': [73, 18, 13, 47],\n",
       " '.net': [7, 2, 92, 83],\n",
       " 'Total': [209, 202, 238, 192],\n",
       " 'Percentage': [41.8, 40.400000000000006, 47.599999999999994, 38.4],\n",
       " 'Grade': ['F', 'F', 'F', 'F']}"
      ]
     },
     "execution_count": 30,
     "metadata": {},
     "output_type": "execute_result"
    }
   ],
   "source": [
    "df.to_dict(orient='list')"
   ]
  },
  {
   "cell_type": "code",
   "execution_count": 44,
   "id": "55389898",
   "metadata": {},
   "outputs": [],
   "source": [
    "df['productPrice']+=500"
   ]
  },
  {
   "cell_type": "code",
   "execution_count": 45,
   "id": "5a9e19bd",
   "metadata": {},
   "outputs": [
    {
     "data": {
      "text/html": [
       "<div>\n",
       "<style scoped>\n",
       "    .dataframe tbody tr th:only-of-type {\n",
       "        vertical-align: middle;\n",
       "    }\n",
       "\n",
       "    .dataframe tbody tr th {\n",
       "        vertical-align: top;\n",
       "    }\n",
       "\n",
       "    .dataframe thead th {\n",
       "        text-align: right;\n",
       "    }\n",
       "</style>\n",
       "<table border=\"1\" class=\"dataframe\">\n",
       "  <thead>\n",
       "    <tr style=\"text-align: right;\">\n",
       "      <th></th>\n",
       "      <th>productId</th>\n",
       "      <th>productName</th>\n",
       "      <th>productPrice</th>\n",
       "    </tr>\n",
       "  </thead>\n",
       "  <tbody>\n",
       "    <tr>\n",
       "      <th>0</th>\n",
       "      <td>101</td>\n",
       "      <td>maggi</td>\n",
       "      <td>600</td>\n",
       "    </tr>\n",
       "    <tr>\n",
       "      <th>1</th>\n",
       "      <td>102</td>\n",
       "      <td>pizza</td>\n",
       "      <td>700</td>\n",
       "    </tr>\n",
       "    <tr>\n",
       "      <th>2</th>\n",
       "      <td>103</td>\n",
       "      <td>burger</td>\n",
       "      <td>800</td>\n",
       "    </tr>\n",
       "    <tr>\n",
       "      <th>3</th>\n",
       "      <td>104</td>\n",
       "      <td>franki</td>\n",
       "      <td>900</td>\n",
       "    </tr>\n",
       "    <tr>\n",
       "      <th>4</th>\n",
       "      <td>105</td>\n",
       "      <td>pasta</td>\n",
       "      <td>1000</td>\n",
       "    </tr>\n",
       "  </tbody>\n",
       "</table>\n",
       "</div>"
      ],
      "text/plain": [
       "   productId productName  productPrice\n",
       "0        101       maggi           600\n",
       "1        102       pizza           700\n",
       "2        103      burger           800\n",
       "3        104      franki           900\n",
       "4        105       pasta          1000"
      ]
     },
     "execution_count": 45,
     "metadata": {},
     "output_type": "execute_result"
    }
   ],
   "source": [
    "df"
   ]
  }
 ],
 "metadata": {
  "kernelspec": {
   "display_name": "Python 3 (ipykernel)",
   "language": "python",
   "name": "python3"
  },
  "language_info": {
   "codemirror_mode": {
    "name": "ipython",
    "version": 3
   },
   "file_extension": ".py",
   "mimetype": "text/x-python",
   "name": "python",
   "nbconvert_exporter": "python",
   "pygments_lexer": "ipython3",
   "version": "3.11.5"
  }
 },
 "nbformat": 4,
 "nbformat_minor": 5
}
